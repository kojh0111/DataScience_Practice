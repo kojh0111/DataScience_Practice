{
 "cells": [
  {
   "cell_type": "markdown",
   "source": [
    "# Pandas 라이브러리"
   ],
   "metadata": {}
  },
  {
   "cell_type": "markdown",
   "source": [
    "---"
   ],
   "metadata": {}
  },
  {
   "cell_type": "markdown",
   "source": [
    "## 학습 목표\n",
    "- 데이터를 정제하고 편집하기 위해 Pandas 라이브러리의 쥬요 함수 사용법을 학습\n",
    "\n",
    "<br>\n",
    "\n",
    "---"
   ],
   "metadata": {}
  },
  {
   "cell_type": "markdown",
   "source": [
    "## 목차\n",
    "1. [Series](###1.Series)\n",
    "2. (DataFrame)[#]"
   ],
   "metadata": {}
  },
  {
   "cell_type": "markdown",
   "source": [
    "## Pandas 라이브러리\n",
    "**pandas**는 row와 column으로 이뤄진 데이터 객체를 생성하고 수정하기 위한 패키지입니다.\n",
    "\n",
    "numpy는 수학적 계산을 위한 배열에 초점이 맞춰졌다면, pandas는 데이터 분석에 초점이 맞추어져 빅데이터를 다루는데 편리합니다.\n",
    "\n",
    "머신러닝에서 사용하는 데이터는 여러 column으로 이루어져 있고, pandas에서 제공하는 유용한 함수를 사용하여 데이터들의 분석과 처리를 할 수 있습니다.\n"
   ],
   "metadata": {}
  },
  {
   "cell_type": "markdown",
   "source": [],
   "metadata": {}
  },
  {
   "cell_type": "markdown",
   "source": [
    "라이브러리 import 하기"
   ],
   "metadata": {}
  },
  {
   "cell_type": "code",
   "execution_count": 6,
   "source": [
    "import pandas as pd"
   ],
   "outputs": [],
   "metadata": {}
  },
  {
   "cell_type": "markdown",
   "source": [
    "### 1. Series"
   ],
   "metadata": {}
  },
  {
   "cell_type": "markdown",
   "source": [
    "Pandas에는 두 종류의 자료구조가 있습니다.    \n",
    "**Series**는 1차월 배열과 같은 자료구조로 1차원 배열의 값과 인덱스 값을 같이 저장합니다."
   ],
   "metadata": {}
  },
  {
   "cell_type": "code",
   "execution_count": 2,
   "source": [
    "obj = pd.Series([4, 7, -5 ])\n",
    "obj"
   ],
   "outputs": [
    {
     "output_type": "execute_result",
     "data": {
      "text/plain": [
       "0    4\n",
       "1    7\n",
       "2   -5\n",
       "dtype: int64"
      ]
     },
     "metadata": {},
     "execution_count": 2
    }
   ],
   "metadata": {}
  },
  {
   "cell_type": "markdown",
   "source": [
    "Series 데이터는 파이썬 리스트와는 달리 인덱스값을 사용자가 설정할 수 있습니다. \n",
    "\n",
    "아래 예처럼 인덱스 인자에 값을 넘겨주면 해당 값으로 설정됩니다."
   ],
   "metadata": {}
  },
  {
   "cell_type": "code",
   "execution_count": 3,
   "source": [
    "stock0 = pd.Series([10, 20, 30], index=['A', 'B', 'C'])\n",
    "stock1 = pd.Series([30, 20, 10], index=['C', 'A', 'B'])\n",
    "merge = stock0 + stock1\n",
    "merge"
   ],
   "outputs": [
    {
     "output_type": "execute_result",
     "data": {
      "text/plain": [
       "A    30\n",
       "B    30\n",
       "C    60\n",
       "dtype: int64"
      ]
     },
     "metadata": {},
     "execution_count": 3
    }
   ],
   "metadata": {}
  },
  {
   "cell_type": "markdown",
   "source": [
    "Series의 덧셈은 인덱스가 같은 성분끼리 덧셈을 수행합니다."
   ],
   "metadata": {}
  },
  {
   "cell_type": "markdown",
   "source": [],
   "metadata": {}
  }
 ],
 "metadata": {
  "orig_nbformat": 4,
  "language_info": {
   "name": "python",
   "version": "3.8.8",
   "mimetype": "text/x-python",
   "codemirror_mode": {
    "name": "ipython",
    "version": 3
   },
   "pygments_lexer": "ipython3",
   "nbconvert_exporter": "python",
   "file_extension": ".py"
  },
  "kernelspec": {
   "name": "python3",
   "display_name": "Python 3.8.8 64-bit ('data_study': conda)"
  },
  "interpreter": {
   "hash": "7eab12c1cb1e229928bd53f979b627295bcda825837405665a3b1f24d73e6e84"
  }
 },
 "nbformat": 4,
 "nbformat_minor": 2
}